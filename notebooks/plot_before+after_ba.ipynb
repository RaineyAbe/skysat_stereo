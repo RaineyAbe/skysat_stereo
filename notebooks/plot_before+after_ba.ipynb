{
 "cells": [
  {
   "cell_type": "markdown",
   "metadata": {},
   "source": [
    "# Plot results for original and new bundle adjustment"
   ]
  },
  {
   "cell_type": "code",
   "execution_count": 1,
   "metadata": {},
   "outputs": [],
   "source": [
    "import xdem\n",
    "import geoutils as gu\n",
    "import os,glob\n",
    "import matplotlib.pyplot as plt\n",
    "import numpy as np"
   ]
  },
  {
   "cell_type": "code",
   "execution_count": null,
   "metadata": {},
   "outputs": [],
   "source": [
    "data_dir = '/Volumes/LaCie/raineyaberle/Research/PhD/SkySat-Stereo/study-sites'\n",
    "site_names = ['MCS'] #['Banner', 'MCS', 'JacksonPeak']\n",
    "\n",
    "for site_name in site_names:\n",
    "    # Load reference DEM\n",
    "    if site_name=='JacksonPeak':\n",
    "        refdem_fn = os.path.join(data_dir, site_name, 'refdem', 'USGS_LPC_ID_FEMAHQ_2018_D18_merged_filtered.tif')\n",
    "    else:\n",
    "        refdem_fn = glob.glob(os.path.join(data_dir, site_name, 'refdem', f'{site_name}_REFDEM_WGS84.tif'))[0]\n",
    "    refdem = xdem.DEM(refdem_fn)\n",
    "    # Load DEM dates\n",
    "    dates = ['20241003'] #sorted(glob.glob(os.path.join(data_dir, site_name, '20*')))\n",
    "    # Iterate over dates\n",
    "    for date in dates:\n",
    "        # Load DEMs\n",
    "        old_dem_fn = glob.glob(os.path.join(data_dir, site_name, date, f\"original_*DEM.tif\"))[0]\n",
    "        old_dem = xdem.DEM(old_dem_fn)\n",
    "        dem1_fn = os.path.join(data_dir, site_name, date, f\"original+DEM_MCS_20241003_DEM.tif\")\n",
    "        dem1 = xdem.DEM(dem1_fn).reproject(old_dem)\n",
    "        dem2_fn = os.path.join(data_dir, site_name, date, f\"original+DEMuncertainty1m_MCS_20241003_DEM.tif\")\n",
    "        dem2 = xdem.DEM(dem2_fn).reproject(old_dem)\n",
    "        dem3_fn = os.path.join(data_dir, site_name, date, f\"original+DEMuncertainty0.1m_MCS_20241003_DEM.tif\")\n",
    "        dem3 = xdem.DEM(dem3_fn).reproject(old_dem)\n",
    "        dem4_fn = os.path.join(data_dir, site_name, date, f\"run-run-trans_source-DEM.tif\")\n",
    "        dem4 = xdem.DEM(dem4_fn).reproject(old_dem)\n",
    "        refdem = refdem.reproject(old_dem)\n",
    "        \n",
    "        # Load stable surfaces mask\n",
    "        ss_mask_fn = os.path.join(data_dir, site_name, date, 'stable_surfaces', 'stable_surfaces_mask.tif')\n",
    "        ss_mask = gu.Raster(ss_mask_fn).reproject(old_dem)\n",
    "        ss_mask = (ss_mask == 1)\n",
    "        \n",
    "        # Set up figure\n",
    "        fig, ax = plt.subplots(3, 2, figsize=(12,14))\n",
    "        ax = ax.flatten()\n",
    "        titles = ['Original', 'with refDEM, $\\sigma$ = 10 m', \n",
    "                  'with refDEM, $\\sigma$ = 1 m', 'with refDEM, $\\sigma$ = 0.1 m',\n",
    "                  'with refDEM, $\\sigma$ = 1 m, SS only']\n",
    "        for i, (dem, title) in enumerate(list(zip([old_dem, dem1, dem2, dem3, dem4], titles))):\n",
    "            # Calculate dDEM\n",
    "            ddem = dem - refdem\n",
    "            # Calculate stable surface stats\n",
    "            ddem_ss = ddem[ss_mask]\n",
    "            ddem_ss_median, ddem_ss_nmad = np.ma.median(ddem_ss), xdem.spatialstats.nmad(ddem_ss)\n",
    "            # Plot\n",
    "            ddem.plot(cmap='coolwarm_r', vmin=-5, vmax=5, ax=ax[i], add_cbar=False)\n",
    "            ax[i].text(602.6e3, 4.8692e6, f\"SS median = {np.round(float(ddem_ss_median),2)}\\nSS NMAD = {np.round(float(ddem_ss_nmad),2)}\")\n",
    "            ax[i].set_title(title)\n",
    "            ax[i].set_xticks([])\n",
    "            ax[i].set_yticks([])\n",
    "        \n",
    "        fig.suptitle(f\"{site_name}\\n{os.path.basename(date)}\")\n",
    "        fig.tight_layout()\n",
    "        plt.show()\n"
   ]
  },
  {
   "cell_type": "code",
   "execution_count": null,
   "metadata": {},
   "outputs": [],
   "source": []
  }
 ],
 "metadata": {
  "kernelspec": {
   "display_name": "skysat_stereo",
   "language": "python",
   "name": "python3"
  },
  "language_info": {
   "codemirror_mode": {
    "name": "ipython",
    "version": 3
   },
   "file_extension": ".py",
   "mimetype": "text/x-python",
   "name": "python",
   "nbconvert_exporter": "python",
   "pygments_lexer": "ipython3",
   "version": "3.11.6"
  }
 },
 "nbformat": 4,
 "nbformat_minor": 2
}
