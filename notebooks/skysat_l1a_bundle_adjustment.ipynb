{
 "cells": [
  {
   "cell_type": "code",
   "execution_count": 1,
   "id": "745c4c61-6d61-4819-bba1-5f8943404210",
   "metadata": {},
   "outputs": [],
   "source": [
    "%matplotlib inline\n",
    "%load_ext autoreload\n",
    "%autoreload 2"
   ]
  },
  {
   "cell_type": "code",
   "execution_count": 2,
   "id": "a8ee33b2-f91c-4971-9c7b-11fc14a84f5d",
   "metadata": {},
   "outputs": [],
   "source": [
    "import os,sys,glob,shutil\n",
    "import numpy as np\n",
    "import pandas as pd\n",
    "import geopandas as gpd\n",
    "import cv2\n",
    "import matplotlib.pyplot as plt\n",
    "from pygeotools.lib import geolib,warplib,malib,iolib\n",
    "from imview import pltlib\n",
    "from skysat_stereo import skysat\n",
    "from skysat_stereo import asp_utils as asp\n",
    "\n",
    "from shapely import wkt\n",
    "from shapely.geometry.polygon import orient"
   ]
  },
  {
   "cell_type": "code",
   "execution_count": 3,
   "id": "f3ff47c1-aaff-4980-bacd-34b3ea003766",
   "metadata": {},
   "outputs": [
    {
     "name": "stdout",
     "output_type": "stream",
     "text": [
      "/nobackupp11/sbhusha1/change/s108_20210406T040909Z\n"
     ]
    }
   ],
   "source": [
    "%cd /nobackup/sbhusha1/change/s108_20210406T040909Z/"
   ]
  },
  {
   "cell_type": "code",
   "execution_count": 4,
   "id": "859a99a5-f322-4f2b-b45f-4386444324f7",
   "metadata": {},
   "outputs": [],
   "source": [
    "fn = 'frame_index.csv'"
   ]
  },
  {
   "cell_type": "code",
   "execution_count": 6,
   "id": "35a23ab7-6d56-421f-9fa2-8bffbd5c06bd",
   "metadata": {},
   "outputs": [
    {
     "name": "stderr",
     "output_type": "stream",
     "text": [
      "/nobackupp11/sbhusha1/miniconda3/envs/bhushan_PY3/lib/python3.8/site-packages/pyproj/crs/crs.py:53: FutureWarning: '+init=<authority>:<code>' syntax is deprecated. '<authority>:<code>' is the preferred initialization method. When making the change, be mindful of axis order changes: https://pyproj4.github.io/pyproj/stable/gotchas.html#axis-order-changes-in-proj-6\n",
      "  return _prepare_from_string(\" \".join(pjargs))\n"
     ]
    }
   ],
   "source": [
    "frame_index = skysat.parse_frame_index(fn,True)"
   ]
  },
  {
   "cell_type": "code",
   "execution_count": 8,
   "id": "22809f57-6b49-45cf-899a-653bcfe7f248",
   "metadata": {},
   "outputs": [
    {
     "data": {
      "text/html": [
       "<div>\n",
       "<style scoped>\n",
       "    .dataframe tbody tr th:only-of-type {\n",
       "        vertical-align: middle;\n",
       "    }\n",
       "\n",
       "    .dataframe tbody tr th {\n",
       "        vertical-align: top;\n",
       "    }\n",
       "\n",
       "    .dataframe thead th {\n",
       "        text-align: right;\n",
       "    }\n",
       "</style>\n",
       "<table border=\"1\" class=\"dataframe\">\n",
       "  <thead>\n",
       "    <tr style=\"text-align: right;\">\n",
       "      <th></th>\n",
       "      <th>name</th>\n",
       "      <th>datetime</th>\n",
       "      <th>gsd</th>\n",
       "      <th>sat_az</th>\n",
       "      <th>sat_elev</th>\n",
       "      <th>x_sat_eci_km</th>\n",
       "      <th>y_sat_eci_km</th>\n",
       "      <th>z_sat_eci_km</th>\n",
       "      <th>qw_eci</th>\n",
       "      <th>qx_eci</th>\n",
       "      <th>...</th>\n",
       "      <th>y_sat_ecef_km</th>\n",
       "      <th>z_sat_ecef_km</th>\n",
       "      <th>qw_ecef</th>\n",
       "      <th>qx_ecef</th>\n",
       "      <th>qy_ecef</th>\n",
       "      <th>qz_ecef</th>\n",
       "      <th>bit_dpth</th>\n",
       "      <th>geom</th>\n",
       "      <th>integration_time_ms</th>\n",
       "      <th>filename</th>\n",
       "    </tr>\n",
       "  </thead>\n",
       "  <tbody>\n",
       "    <tr>\n",
       "      <th>0</th>\n",
       "      <td>1301717367.65046096_sc00108_c3_PAN</td>\n",
       "      <td>2021-04-06T04:09:09.650461+00:00</td>\n",
       "      <td>1.124777</td>\n",
       "      <td>43.757951</td>\n",
       "      <td>54.626309</td>\n",
       "      <td>5446.94887</td>\n",
       "      <td>3118.34934</td>\n",
       "      <td>-2698.79223</td>\n",
       "      <td>0.653283</td>\n",
       "      <td>0.373069</td>\n",
       "      <td>...</td>\n",
       "      <td>4588.27493</td>\n",
       "      <td>-2687.66720</td>\n",
       "      <td>0.215369</td>\n",
       "      <td>-0.712615</td>\n",
       "      <td>0.088349</td>\n",
       "      <td>-0.661809</td>\n",
       "      <td>16</td>\n",
       "      <td>POLYGON ((131.075182669813 -25.252703375099,13...</td>\n",
       "      <td>0.52316</td>\n",
       "      <td>1301717367.65046096_sc00108_c3_PAN_i0000000000...</td>\n",
       "    </tr>\n",
       "    <tr>\n",
       "      <th>1</th>\n",
       "      <td>1301717367.65046573_sc00108_c2_PAN</td>\n",
       "      <td>2021-04-06T04:09:09.650466+00:00</td>\n",
       "      <td>1.135013</td>\n",
       "      <td>43.555569</td>\n",
       "      <td>54.168736</td>\n",
       "      <td>5446.94886</td>\n",
       "      <td>3118.34933</td>\n",
       "      <td>-2698.79227</td>\n",
       "      <td>0.653283</td>\n",
       "      <td>0.373069</td>\n",
       "      <td>...</td>\n",
       "      <td>4588.27492</td>\n",
       "      <td>-2687.66724</td>\n",
       "      <td>0.215369</td>\n",
       "      <td>-0.712615</td>\n",
       "      <td>0.088349</td>\n",
       "      <td>-0.661809</td>\n",
       "      <td>16</td>\n",
       "      <td>POLYGON ((131.04976305695 -25.2915903643759,13...</td>\n",
       "      <td>0.52316</td>\n",
       "      <td>1301717367.65046573_sc00108_c2_PAN_i0000000000...</td>\n",
       "    </tr>\n",
       "  </tbody>\n",
       "</table>\n",
       "<p>2 rows × 23 columns</p>\n",
       "</div>"
      ],
      "text/plain": [
       "                                 name                          datetime  \\\n",
       "0  1301717367.65046096_sc00108_c3_PAN  2021-04-06T04:09:09.650461+00:00   \n",
       "1  1301717367.65046573_sc00108_c2_PAN  2021-04-06T04:09:09.650466+00:00   \n",
       "\n",
       "        gsd     sat_az   sat_elev  x_sat_eci_km  y_sat_eci_km  z_sat_eci_km  \\\n",
       "0  1.124777  43.757951  54.626309    5446.94887    3118.34934   -2698.79223   \n",
       "1  1.135013  43.555569  54.168736    5446.94886    3118.34933   -2698.79227   \n",
       "\n",
       "     qw_eci    qx_eci  ...  y_sat_ecef_km  z_sat_ecef_km   qw_ecef   qx_ecef  \\\n",
       "0  0.653283  0.373069  ...     4588.27493    -2687.66720  0.215369 -0.712615   \n",
       "1  0.653283  0.373069  ...     4588.27492    -2687.66724  0.215369 -0.712615   \n",
       "\n",
       "    qy_ecef   qz_ecef  bit_dpth  \\\n",
       "0  0.088349 -0.661809        16   \n",
       "1  0.088349 -0.661809        16   \n",
       "\n",
       "                                                geom  integration_time_ms  \\\n",
       "0  POLYGON ((131.075182669813 -25.252703375099,13...              0.52316   \n",
       "1  POLYGON ((131.04976305695 -25.2915903643759,13...              0.52316   \n",
       "\n",
       "                                            filename  \n",
       "0  1301717367.65046096_sc00108_c3_PAN_i0000000000...  \n",
       "1  1301717367.65046573_sc00108_c2_PAN_i0000000000...  \n",
       "\n",
       "[2 rows x 23 columns]"
      ]
     },
     "execution_count": 8,
     "metadata": {},
     "output_type": "execute_result"
    }
   ],
   "source": [
    "frame_index.head(2)"
   ]
  },
  {
   "cell_type": "code",
   "execution_count": 30,
   "id": "c90b273b-d585-4fc7-be84-16e101899b5a",
   "metadata": {},
   "outputs": [],
   "source": [
    "def modernize_frame_index(frame_index_fn,return_frame_index=True,outfn=None):\n",
    "    \"\"\"\n",
    "    Update frame_index to what ASP understands\n",
    "    Update name columns and geometry columns\n",
    "    \n",
    "    Parameters\n",
    "    -------------\n",
    "    frame_index_fn: string\n",
    "        path to frame_index\n",
    "    outfn (Optional): string\n",
    "        path to output frame_index filename\n",
    "    \"\"\"\n",
    "    def _correct_geom(row):\n",
    "        return wkt.loads(row['geom'])\n",
    "    frame_index = pd.read_csv(frame_index_fn)\n",
    "    frame_index['geom'] = frame_index.apply(_correct_geom,axis=1)\n",
    "    \n",
    "    # orient the Polygon geometry\n",
    "    \n",
    "    updated_geomlist_asp_convention = [orient(test_geom,-1) for test_geom in frame_index['geom'].values]\n",
    "    # remove the space between POLYGON and ((# \n",
    "    updated_geomlist_asp_convention = [f\"POLYGON(({str(test_geom).split(' ((')[1]}\" for test_geom in updated_geomlist_asp_convention]\n",
    "    \n",
    "    # remove the repeated last coordinate\n",
    "    updated_geomlist_asp_convention = [','.join(test_geom.split(',')[:-1])+'))' for test_geom in updated_geomlist_asp_convention]\n",
    "    \n",
    "    # update geometry column\n",
    "    frame_index['geom'] = updated_geomlist_asp_convention\n",
    "    \n",
    "    # update name\n",
    "    frame_index['name'] = [os.path.splitext(name)[0] for name in frame_index.filename.values]\n",
    "    print(os.path.splitext(frame_index.filename.values[0])[0])\n",
    "    # writeout\n",
    "    if not outfn:\n",
    "        outfn = os.path.splitext(frame_index_fn)[0] + '_with_orient.csv'\n",
    "    frame_index.to_csv(outfn,index=False)\n",
    "    \n",
    "    if return_frame_index:\n",
    "        return frame_index\n",
    "    \n",
    "    "
   ]
  },
  {
   "cell_type": "code",
   "execution_count": 9,
   "id": "1fdd7089-a74c-49d8-984d-89dbf9f98bfe",
   "metadata": {},
   "outputs": [],
   "source": [
    "def correct_geom(row):\n",
    "    return wkt.loads(row['geom'])"
   ]
  },
  {
   "cell_type": "code",
   "execution_count": 13,
   "id": "bbd3ba36-ccf1-4666-8a9f-5aed9ff7ae57",
   "metadata": {},
   "outputs": [],
   "source": [
    "frame_index['geom'] = frame_index.apply(correct_geom,axis=1)"
   ]
  },
  {
   "cell_type": "code",
   "execution_count": 16,
   "id": "014cdec1-6d67-4d91-86b4-2c79c8dedf65",
   "metadata": {},
   "outputs": [
    {
     "name": "stdout",
     "output_type": "stream",
     "text": [
      "POLYGON ((131.075182669813 -25.252703375099, 131.075086503775 -25.2420213590524, 131.046827540786 -25.2474006834797, 131.046927861518 -25.2580848603599, 131.075182669813 -25.252703375099))\n"
     ]
    }
   ],
   "source": [
    "print(frame_index['geom'].values[0])"
   ]
  },
  {
   "cell_type": "code",
   "execution_count": 18,
   "id": "72fd217b-3267-43f7-adb6-d571e5f6cb58",
   "metadata": {},
   "outputs": [],
   "source": [
    "updated_geomlist_asp_convention = frame_index['geom'].values"
   ]
  },
  {
   "cell_type": "code",
   "execution_count": 21,
   "id": "e9c468e2-63f0-4411-a8ce-4e4ac719fa35",
   "metadata": {},
   "outputs": [],
   "source": [
    "updated_geomlist_asp_convention = [f\"POLYGON(({str(test_geom).split(' ((')[1]}\" for test_geom in updated_geomlist_asp_convention]"
   ]
  },
  {
   "cell_type": "code",
   "execution_count": 23,
   "id": "1287d8d6-9d69-49d8-b10b-7e5edf610e32",
   "metadata": {},
   "outputs": [],
   "source": [
    "updated_geomlist_asp_convention = [','.join(test_geom.split(',')[:-1])+'))' for test_geom in updated_geomlist_asp_convention]"
   ]
  },
  {
   "cell_type": "code",
   "execution_count": 25,
   "id": "fa9feb77-7923-4437-9d76-5e3157ac1b0e",
   "metadata": {},
   "outputs": [
    {
     "name": "stderr",
     "output_type": "stream",
     "text": [
      "/nobackupp11/sbhusha1/miniconda3/envs/bhushan_PY3/lib/python3.8/site-packages/pyproj/crs/crs.py:53: FutureWarning: '+init=<authority>:<code>' syntax is deprecated. '<authority>:<code>' is the preferred initialization method. When making the change, be mindful of axis order changes: https://pyproj4.github.io/pyproj/stable/gotchas.html#axis-order-changes-in-proj-6\n",
      "  return _prepare_from_string(\" \".join(pjargs))\n"
     ]
    }
   ],
   "source": [
    "frame_index_opt1 = skysat.parse_frame_index(fn,True)\n",
    "frame_index_opt1_fn = os.path.splitext(fn)[0]+'_without_orient.csv'"
   ]
  },
  {
   "cell_type": "code",
   "execution_count": 26,
   "id": "ca89c3b8-0c6b-4e0a-8bb5-b7d21b257ab5",
   "metadata": {},
   "outputs": [],
   "source": [
    "frame_index_opt1['geom'] = updated_geomlist_asp_convention"
   ]
  },
  {
   "cell_type": "code",
   "execution_count": 28,
   "id": "00335134-e03f-4bfe-818d-3cc1553e1498",
   "metadata": {},
   "outputs": [],
   "source": [
    "frame_index_opt1['name'] = frame_index_opt1['filename']"
   ]
  },
  {
   "cell_type": "code",
   "execution_count": 29,
   "id": "9682c43b-78b7-4d36-b620-ab1f83f92b98",
   "metadata": {},
   "outputs": [],
   "source": [
    "frame_index_opt1.to_csv(frame_index_opt1_fn,index=False)"
   ]
  },
  {
   "cell_type": "code",
   "execution_count": 59,
   "id": "9f1b479d-53ac-4c35-9436-3dd6158bdbd2",
   "metadata": {},
   "outputs": [
    {
     "name": "stdout",
     "output_type": "stream",
     "text": [
      "fontconfig\t frame_index_with_orient.csv\t isce.log    out\n",
      "frame_index.csv  frame_index_without_orient.csv  l1a_frames  test\n"
     ]
    }
   ],
   "source": [
    "! ls"
   ]
  },
  {
   "cell_type": "markdown",
   "id": "d92ddbd0-292d-42b0-975b-d89f88c4e5ab",
   "metadata": {},
   "source": [
    "### With orient"
   ]
  },
  {
   "cell_type": "code",
   "execution_count": 61,
   "id": "25911ca9-fed8-4326-a552-4ed1564f88ed",
   "metadata": {},
   "outputs": [
    {
     "name": "stderr",
     "output_type": "stream",
     "text": [
      "/nobackupp11/sbhusha1/miniconda3/envs/bhushan_PY3/lib/python3.8/site-packages/pyproj/crs/crs.py:53: FutureWarning: '+init=<authority>:<code>' syntax is deprecated. '<authority>:<code>' is the preferred initialization method. When making the change, be mindful of axis order changes: https://pyproj4.github.io/pyproj/stable/gotchas.html#axis-order-changes-in-proj-6\n",
      "  return _prepare_from_string(\" \".join(pjargs))\n"
     ]
    }
   ],
   "source": [
    "frame_index_opt2 = skysat.parse_frame_index(fn,True)\n",
    "frame_index_opt2_fn = os.path.splitext(fn)[0]+'_with_orient.csv'\n",
    "frame_index_opt2['geom'] = frame_index_opt2.apply(correct_geom,axis=1)"
   ]
  },
  {
   "cell_type": "code",
   "execution_count": 62,
   "id": "b137799a-84f0-4c23-bd56-937cf896594e",
   "metadata": {},
   "outputs": [
    {
     "name": "stdout",
     "output_type": "stream",
     "text": [
      "POLYGON ((131.075182669813 -25.252703375099, 131.075086503775 -25.2420213590524, 131.046827540786 -25.2474006834797, 131.046927861518 -25.2580848603599, 131.075182669813 -25.252703375099))\n"
     ]
    }
   ],
   "source": [
    "print(frame_index_opt2['geom'].values[0])"
   ]
  },
  {
   "cell_type": "code",
   "execution_count": 63,
   "id": "ff84bfe7-55f9-4dc7-a38f-ac444fe5a76d",
   "metadata": {},
   "outputs": [],
   "source": [
    "updated_geomlist_asp_convention = [orient(test_geom,-1) for test_geom in frame_index_opt2['geom'].values]"
   ]
  },
  {
   "cell_type": "code",
   "execution_count": 64,
   "id": "6c6926be-e7c9-4d6b-9dce-f66aeb31a01b",
   "metadata": {},
   "outputs": [
    {
     "name": "stdout",
     "output_type": "stream",
     "text": [
      "POLYGON ((131.075182669813 -25.252703375099, 131.046927861518 -25.2580848603599, 131.046827540786 -25.2474006834797, 131.075086503775 -25.2420213590524, 131.075182669813 -25.252703375099))\n"
     ]
    }
   ],
   "source": [
    "print(updated_geomlist_asp_convention[0])"
   ]
  },
  {
   "cell_type": "code",
   "execution_count": 65,
   "id": "10433227-c697-40a6-b61e-cd48405dabd4",
   "metadata": {},
   "outputs": [],
   "source": [
    "updated_geomlist_asp_convention = [f\"POLYGON(({str(test_geom).split(' ((')[1]}\" for test_geom in updated_geomlist_asp_convention]"
   ]
  },
  {
   "cell_type": "code",
   "execution_count": 66,
   "id": "79665ffa-6422-47e3-97ba-627c7697eebd",
   "metadata": {},
   "outputs": [
    {
     "name": "stdout",
     "output_type": "stream",
     "text": [
      "POLYGON((131.075182669813 -25.252703375099, 131.046927861518 -25.2580848603599, 131.046827540786 -25.2474006834797, 131.075086503775 -25.2420213590524, 131.075182669813 -25.252703375099))\n"
     ]
    }
   ],
   "source": [
    "print(updated_geomlist_asp_convention[0])"
   ]
  },
  {
   "cell_type": "code",
   "execution_count": 67,
   "id": "4d6d2a8d-0449-4257-9953-46d5f83ccb8a",
   "metadata": {},
   "outputs": [],
   "source": [
    "updated_geomlist_asp_convention = [','.join(test_geom.split(',')[:-1])+'))' for test_geom in updated_geomlist_asp_convention]"
   ]
  },
  {
   "cell_type": "code",
   "execution_count": 68,
   "id": "33bf62d3-ca62-4a23-9437-206639f07331",
   "metadata": {},
   "outputs": [
    {
     "name": "stdout",
     "output_type": "stream",
     "text": [
      "POLYGON((131.075182669813 -25.252703375099, 131.046927861518 -25.2580848603599, 131.046827540786 -25.2474006834797, 131.075086503775 -25.2420213590524))\n"
     ]
    }
   ],
   "source": [
    "print(updated_geomlist_asp_convention[0])"
   ]
  },
  {
   "cell_type": "code",
   "execution_count": 69,
   "id": "538283f7-af9b-41f9-9775-ee05c6223ac6",
   "metadata": {},
   "outputs": [],
   "source": [
    "frame_index_opt2['geom'] = updated_geomlist_asp_convention"
   ]
  },
  {
   "cell_type": "code",
   "execution_count": 70,
   "id": "dc77def7-39a7-4007-980e-ecfd951d3289",
   "metadata": {},
   "outputs": [
    {
     "data": {
      "text/html": [
       "<div>\n",
       "<style scoped>\n",
       "    .dataframe tbody tr th:only-of-type {\n",
       "        vertical-align: middle;\n",
       "    }\n",
       "\n",
       "    .dataframe tbody tr th {\n",
       "        vertical-align: top;\n",
       "    }\n",
       "\n",
       "    .dataframe thead th {\n",
       "        text-align: right;\n",
       "    }\n",
       "</style>\n",
       "<table border=\"1\" class=\"dataframe\">\n",
       "  <thead>\n",
       "    <tr style=\"text-align: right;\">\n",
       "      <th></th>\n",
       "      <th>name</th>\n",
       "      <th>datetime</th>\n",
       "      <th>gsd</th>\n",
       "      <th>sat_az</th>\n",
       "      <th>sat_elev</th>\n",
       "      <th>x_sat_eci_km</th>\n",
       "      <th>y_sat_eci_km</th>\n",
       "      <th>z_sat_eci_km</th>\n",
       "      <th>qw_eci</th>\n",
       "      <th>qx_eci</th>\n",
       "      <th>...</th>\n",
       "      <th>y_sat_ecef_km</th>\n",
       "      <th>z_sat_ecef_km</th>\n",
       "      <th>qw_ecef</th>\n",
       "      <th>qx_ecef</th>\n",
       "      <th>qy_ecef</th>\n",
       "      <th>qz_ecef</th>\n",
       "      <th>bit_dpth</th>\n",
       "      <th>geom</th>\n",
       "      <th>integration_time_ms</th>\n",
       "      <th>filename</th>\n",
       "    </tr>\n",
       "  </thead>\n",
       "  <tbody>\n",
       "    <tr>\n",
       "      <th>0</th>\n",
       "      <td>1301717367.65046096_sc00108_c3_PAN</td>\n",
       "      <td>2021-04-06T04:09:09.650461+00:00</td>\n",
       "      <td>1.124777</td>\n",
       "      <td>43.757951</td>\n",
       "      <td>54.626309</td>\n",
       "      <td>5446.94887</td>\n",
       "      <td>3118.34934</td>\n",
       "      <td>-2698.79223</td>\n",
       "      <td>0.653283</td>\n",
       "      <td>0.373069</td>\n",
       "      <td>...</td>\n",
       "      <td>4588.27493</td>\n",
       "      <td>-2687.66720</td>\n",
       "      <td>0.215369</td>\n",
       "      <td>-0.712615</td>\n",
       "      <td>0.088349</td>\n",
       "      <td>-0.661809</td>\n",
       "      <td>16</td>\n",
       "      <td>POLYGON((131.075182669813 -25.252703375099, 13...</td>\n",
       "      <td>0.52316</td>\n",
       "      <td>1301717367.65046096_sc00108_c3_PAN_i0000000000...</td>\n",
       "    </tr>\n",
       "    <tr>\n",
       "      <th>1</th>\n",
       "      <td>1301717367.65046573_sc00108_c2_PAN</td>\n",
       "      <td>2021-04-06T04:09:09.650466+00:00</td>\n",
       "      <td>1.135013</td>\n",
       "      <td>43.555569</td>\n",
       "      <td>54.168736</td>\n",
       "      <td>5446.94886</td>\n",
       "      <td>3118.34933</td>\n",
       "      <td>-2698.79227</td>\n",
       "      <td>0.653283</td>\n",
       "      <td>0.373069</td>\n",
       "      <td>...</td>\n",
       "      <td>4588.27492</td>\n",
       "      <td>-2687.66724</td>\n",
       "      <td>0.215369</td>\n",
       "      <td>-0.712615</td>\n",
       "      <td>0.088349</td>\n",
       "      <td>-0.661809</td>\n",
       "      <td>16</td>\n",
       "      <td>POLYGON((131.04976305695 -25.2915903643759, 13...</td>\n",
       "      <td>0.52316</td>\n",
       "      <td>1301717367.65046573_sc00108_c2_PAN_i0000000000...</td>\n",
       "    </tr>\n",
       "  </tbody>\n",
       "</table>\n",
       "<p>2 rows × 23 columns</p>\n",
       "</div>"
      ],
      "text/plain": [
       "                                 name                          datetime  \\\n",
       "0  1301717367.65046096_sc00108_c3_PAN  2021-04-06T04:09:09.650461+00:00   \n",
       "1  1301717367.65046573_sc00108_c2_PAN  2021-04-06T04:09:09.650466+00:00   \n",
       "\n",
       "        gsd     sat_az   sat_elev  x_sat_eci_km  y_sat_eci_km  z_sat_eci_km  \\\n",
       "0  1.124777  43.757951  54.626309    5446.94887    3118.34934   -2698.79223   \n",
       "1  1.135013  43.555569  54.168736    5446.94886    3118.34933   -2698.79227   \n",
       "\n",
       "     qw_eci    qx_eci  ...  y_sat_ecef_km  z_sat_ecef_km   qw_ecef   qx_ecef  \\\n",
       "0  0.653283  0.373069  ...     4588.27493    -2687.66720  0.215369 -0.712615   \n",
       "1  0.653283  0.373069  ...     4588.27492    -2687.66724  0.215369 -0.712615   \n",
       "\n",
       "    qy_ecef   qz_ecef  bit_dpth  \\\n",
       "0  0.088349 -0.661809        16   \n",
       "1  0.088349 -0.661809        16   \n",
       "\n",
       "                                                geom  integration_time_ms  \\\n",
       "0  POLYGON((131.075182669813 -25.252703375099, 13...              0.52316   \n",
       "1  POLYGON((131.04976305695 -25.2915903643759, 13...              0.52316   \n",
       "\n",
       "                                            filename  \n",
       "0  1301717367.65046096_sc00108_c3_PAN_i0000000000...  \n",
       "1  1301717367.65046573_sc00108_c2_PAN_i0000000000...  \n",
       "\n",
       "[2 rows x 23 columns]"
      ]
     },
     "execution_count": 70,
     "metadata": {},
     "output_type": "execute_result"
    }
   ],
   "source": [
    "frame_index_opt2.head(2)"
   ]
  },
  {
   "cell_type": "code",
   "execution_count": 71,
   "id": "c04f9595-f987-43d7-9c76-59578565bfd2",
   "metadata": {},
   "outputs": [
    {
     "data": {
      "text/plain": [
       "'POLYGON((131.075182669813 -25.252703375099, 131.046927861518 -25.2580848603599, 131.046827540786 -25.2474006834797, 131.075086503775 -25.2420213590524))'"
      ]
     },
     "execution_count": 71,
     "metadata": {},
     "output_type": "execute_result"
    }
   ],
   "source": [
    "updated_geomlist_asp_convention[0]"
   ]
  },
  {
   "cell_type": "code",
   "execution_count": 72,
   "id": "176e6cc8-2d1e-4211-bcca-f984d1a940aa",
   "metadata": {},
   "outputs": [],
   "source": [
    "frame_index_opt2['name'] = frame_index_opt2['filename']"
   ]
  },
  {
   "cell_type": "code",
   "execution_count": 73,
   "id": "98d3f6ed-5b80-42e7-9ba9-91225c238079",
   "metadata": {},
   "outputs": [],
   "source": [
    "frame_index_opt2.to_csv(frame_index_opt2_fn,index=False)"
   ]
  },
  {
   "cell_type": "code",
   "execution_count": 74,
   "id": "105864f9-7834-4ac1-9056-c23292b0a2c0",
   "metadata": {},
   "outputs": [],
   "source": [
    "## Get AOI for reference DEMs"
   ]
  },
  {
   "cell_type": "code",
   "execution_count": 75,
   "id": "c5a9817c-a008-43b5-b369-5fe88819cde2",
   "metadata": {},
   "outputs": [
    {
     "name": "stdout",
     "output_type": "stream",
     "text": [
      "fontconfig\t frame_index_with_orient.csv\t isce.log    out\n",
      "frame_index.csv  frame_index_without_orient.csv  l1a_frames  test\n"
     ]
    }
   ],
   "source": [
    "! ls"
   ]
  },
  {
   "cell_type": "markdown",
   "id": "a3cf1dd1-d9cd-4768-9d4f-41af043f14b3",
   "metadata": {},
   "source": [
    "### Get bounds for fetching DEM on batComputer"
   ]
  },
  {
   "cell_type": "code",
   "execution_count": 76,
   "id": "569f48d2-6015-45c9-9283-bba275ca3efa",
   "metadata": {},
   "outputs": [
    {
     "name": "stderr",
     "output_type": "stream",
     "text": [
      "/nobackupp11/sbhusha1/miniconda3/envs/bhushan_PY3/lib/python3.8/site-packages/pyproj/crs/crs.py:53: FutureWarning: '+init=<authority>:<code>' syntax is deprecated. '<authority>:<code>' is the preferred initialization method. When making the change, be mindful of axis order changes: https://pyproj4.github.io/pyproj/stable/gotchas.html#axis-order-changes-in-proj-6\n",
      "  return _prepare_from_string(\" \".join(pjargs))\n"
     ]
    },
    {
     "data": {
      "text/plain": [
       "array([130.99536167, -25.47722607, 131.07518267, -25.24202136])"
      ]
     },
     "execution_count": 76,
     "metadata": {},
     "output_type": "execute_result"
    }
   ],
   "source": [
    "skysat.parse_frame_index(fn).total_bounds"
   ]
  },
  {
   "cell_type": "markdown",
   "id": "efa45f3a-6fe6-4a7d-a58a-957d776f79a5",
   "metadata": {},
   "source": [
    "### Get frame_index for only c2"
   ]
  },
  {
   "cell_type": "code",
   "execution_count": 77,
   "id": "1ab3ac23-cb27-476d-9895-864c01d01551",
   "metadata": {},
   "outputs": [],
   "source": [
    "frame_list = sorted(glob.glob('l1a_frames/*c2*.tif'))"
   ]
  },
  {
   "cell_type": "code",
   "execution_count": 78,
   "id": "cfeaf7f6-99ab-477d-96a6-337561e23388",
   "metadata": {},
   "outputs": [],
   "source": [
    "\n",
    "frame_base = [os.path.basename(frame) for frame in frame_list]\n",
    "mask = frame_index_opt2['filename'].isin(frame_base)\n",
    "frame_index_c2 = frame_index_opt2[mask]"
   ]
  },
  {
   "cell_type": "code",
   "execution_count": 79,
   "id": "af183067-9661-46c1-9a70-a6e446416457",
   "metadata": {},
   "outputs": [],
   "source": [
    "frame_index_opt2_c2_fn = os.path.splitext(fn)[0]+'_with_orient_c2.csv'"
   ]
  },
  {
   "cell_type": "code",
   "execution_count": 90,
   "id": "9e2d9936-a8a1-4b39-9b04-152b561ecca2",
   "metadata": {},
   "outputs": [
    {
     "data": {
      "text/plain": [
       "'1301717367.65046573_sc00108_c2_PAN_i0000000000'"
      ]
     },
     "execution_count": 90,
     "metadata": {},
     "output_type": "execute_result"
    }
   ],
   "source": [
    "os.path.splitext(frame_index_c2['name'].values[0])[0]"
   ]
  },
  {
   "cell_type": "code",
   "execution_count": 91,
   "id": "4967eae0-5f69-47d0-80d0-5c93c154ff80",
   "metadata": {},
   "outputs": [
    {
     "name": "stderr",
     "output_type": "stream",
     "text": [
      "<ipython-input-91-52af9d909d49>:1: SettingWithCopyWarning: \n",
      "A value is trying to be set on a copy of a slice from a DataFrame.\n",
      "Try using .loc[row_indexer,col_indexer] = value instead\n",
      "\n",
      "See the caveats in the documentation: https://pandas.pydata.org/pandas-docs/stable/user_guide/indexing.html#returning-a-view-versus-a-copy\n",
      "  frame_index_c2['name'] = [os.path.splitext(name)[0] for name in frame_index_c2.name.values]\n"
     ]
    }
   ],
   "source": [
    "frame_index_c2['name'] = [os.path.splitext(name)[0] for name in frame_index_c2.name.values]"
   ]
  },
  {
   "cell_type": "code",
   "execution_count": 92,
   "id": "f068481c-dd6a-4fae-b543-81d5dc814af3",
   "metadata": {},
   "outputs": [
    {
     "data": {
      "text/plain": [
       "array(['1301717367.65046573_sc00108_c2_PAN_i0000000000',\n",
       "       '1301717367.67254806_sc00108_c2_PAN_i0000000001'], dtype=object)"
      ]
     },
     "execution_count": 92,
     "metadata": {},
     "output_type": "execute_result"
    }
   ],
   "source": [
    "frame_index_c2.head(2).name.values"
   ]
  },
  {
   "cell_type": "code",
   "execution_count": 93,
   "id": "ea45b4fa-22ad-40c2-950b-8563e0143036",
   "metadata": {},
   "outputs": [],
   "source": [
    "frame_index_c2.to_csv(frame_index_opt2_c2_fn,index=False)"
   ]
  },
  {
   "cell_type": "markdown",
   "id": "a874ae7e-d1bd-4723-b89e-00254ab882c2",
   "metadata": {},
   "source": [
    "### Generate cameras as \n",
    "`skysat_preprocess.py -mode video -t pinhole -img processing/c2/ -sampler 306 -outdir processing/camera_camgen/ -frame_index frame_index_with_orient_c2.csv -dem $refdem -product_level l1a`"
   ]
  },
  {
   "cell_type": "code",
   "execution_count": 95,
   "id": "1ad01e0e-3911-4e5b-82ed-9159ca68845c",
   "metadata": {},
   "outputs": [
    {
     "data": {
      "text/plain": [
       "'1301717367.82759547_sc00108_c2_PAN_i0000000008'"
      ]
     },
     "execution_count": 95,
     "metadata": {},
     "output_type": "execute_result"
    }
   ],
   "source": [
    "frame_index_c2.name.values[8]"
   ]
  },
  {
   "cell_type": "markdown",
   "id": "6c5e1558-697a-4dc4-bf3c-b90e7547ea1a",
   "metadata": {},
   "source": [
    "### Evaluate disparity from original cameras"
   ]
  },
  {
   "cell_type": "code",
   "execution_count": 104,
   "id": "d3aed6b4-0492-492e-b03d-03323ad3c952",
   "metadata": {},
   "outputs": [
    {
     "data": {
      "text/plain": [
       "<AxesSubplot:>"
      ]
     },
     "execution_count": 104,
     "metadata": {},
     "output_type": "execute_result"
    },
    {
     "data": {
      "image/png": "[encoded data removed]",
      "text/plain": [
       "<Figure size 432x288 with 4 Axes>"
      ]
     },
     "metadata": {
      "needs_background": "light"
     },
     "output_type": "display_data"
    }
   ],
   "source": [
    "disparity = 'processing/c2_first2_rpc/run-D.tif'\n",
    "dx,dy  = [iolib.fn_getma(disparity,i) for i in range(1,3)]\n",
    "f,ax = plt.subplots(1,2)\n",
    "pltlib.iv(dx,ax=ax[0],cmap='RdBu',clim=malib.calcperc_sym(dx))\n",
    "pltlib.iv(dy,ax=ax[1],cmap='RdBu',clim=malib.calcperc_sym(dy))"
   ]
  },
  {
   "cell_type": "code",
   "execution_count": 101,
   "id": "3ec08cfc-c5cd-41b5-a079-ecef1086e699",
   "metadata": {},
   "outputs": [
    {
     "data": {
      "text/plain": [
       "{'count': 2592287,\n",
       " 'min': -15.0,\n",
       " 'max': 23.0,\n",
       " 'ptp': 38.0,\n",
       " 'mean': -0.05425363781093683,\n",
       " 'std': 1.0992474135577537,\n",
       " 'nmad': 0.0,\n",
       " 'med': 0.0,\n",
       " 'median': 0.0,\n",
       " 'p16': 0.0,\n",
       " 'p84': 0.0,\n",
       " 'spread': 0.0,\n",
       " 'mode': 0.0}"
      ]
     },
     "execution_count": 101,
     "metadata": {},
     "output_type": "execute_result"
    }
   ],
   "source": [
    "malib.get_stats_dict(dx)"
   ]
  },
  {
   "cell_type": "code",
   "execution_count": 102,
   "id": "258aaf0e-065e-4b6e-9bd5-088c20ff050a",
   "metadata": {},
   "outputs": [
    {
     "data": {
      "text/plain": [
       "{'count': 2581377,\n",
       " 'min': -4.0,\n",
       " 'max': 4.0,\n",
       " 'ptp': 8.0,\n",
       " 'mean': 0.0037049993085085985,\n",
       " 'std': 0.12830423093875531,\n",
       " 'nmad': 0.0,\n",
       " 'med': 0.0,\n",
       " 'median': 0.0,\n",
       " 'p16': 0.0,\n",
       " 'p84': 0.0,\n",
       " 'spread': 0.0,\n",
       " 'mode': 0.0}"
      ]
     },
     "execution_count": 102,
     "metadata": {},
     "output_type": "execute_result"
    }
   ],
   "source": [
    "malib.get_stats_dict(dy)"
   ]
  },
  {
   "cell_type": "markdown",
   "id": "23094e17-cf77-46f4-bcca-fed6e643c05d",
   "metadata": {},
   "source": [
    "#### After affine-epipolar alignment, there is not any disparity in the x and y direction."
   ]
  },
  {
   "cell_type": "code",
   "execution_count": 107,
   "id": "ba06c56e-8619-4c44-99eb-536633c800b3",
   "metadata": {},
   "outputs": [
    {
     "data": {
      "text/plain": [
       "<AxesSubplot:>"
      ]
     },
     "execution_count": 107,
     "metadata": {},
     "output_type": "execute_result"
    },
    {
     "data": {
      "image/png": "[encoded data removed]",
      "text/plain": [
       "<Figure size 432x288 with 4 Axes>"
      ]
     },
     "metadata": {
      "needs_background": "light"
     },
     "output_type": "display_data"
    }
   ],
   "source": [
    "disparity = 'processing/c2_first2_pinholeasp/run-D.tif'\n",
    "dx,dy  = [iolib.fn_getma(disparity,i) for i in range(1,3)]\n",
    "f,ax = plt.subplots(1,2)\n",
    "pltlib.iv(dx,ax=ax[0],cmap='RdBu',clim=malib.calcperc_sym(dx))\n",
    "pltlib.iv(dy,ax=ax[1],cmap='RdBu',clim=malib.calcperc_sym(dy))"
   ]
  },
  {
   "cell_type": "code",
   "execution_count": 111,
   "id": "e99c1a91-ce11-482d-b39f-91193cde82b2",
   "metadata": {},
   "outputs": [
    {
     "data": {
      "text/html": [
       "<div>\n",
       "<style scoped>\n",
       "    .dataframe tbody tr th:only-of-type {\n",
       "        vertical-align: middle;\n",
       "    }\n",
       "\n",
       "    .dataframe tbody tr th {\n",
       "        vertical-align: top;\n",
       "    }\n",
       "\n",
       "    .dataframe thead th {\n",
       "        text-align: right;\n",
       "    }\n",
       "</style>\n",
       "<table border=\"1\" class=\"dataframe\">\n",
       "  <thead>\n",
       "    <tr style=\"text-align: right;\">\n",
       "      <th></th>\n",
       "      <th>name</th>\n",
       "      <th>datetime</th>\n",
       "      <th>gsd</th>\n",
       "      <th>sat_az</th>\n",
       "      <th>sat_elev</th>\n",
       "      <th>x_sat_eci_km</th>\n",
       "      <th>y_sat_eci_km</th>\n",
       "      <th>z_sat_eci_km</th>\n",
       "      <th>qw_eci</th>\n",
       "      <th>qx_eci</th>\n",
       "      <th>...</th>\n",
       "      <th>y_sat_ecef_km</th>\n",
       "      <th>z_sat_ecef_km</th>\n",
       "      <th>qw_ecef</th>\n",
       "      <th>qx_ecef</th>\n",
       "      <th>qy_ecef</th>\n",
       "      <th>qz_ecef</th>\n",
       "      <th>bit_dpth</th>\n",
       "      <th>geom</th>\n",
       "      <th>integration_time_ms</th>\n",
       "      <th>filename</th>\n",
       "    </tr>\n",
       "  </thead>\n",
       "  <tbody>\n",
       "    <tr>\n",
       "      <th>1</th>\n",
       "      <td>1301717367.65046573_sc00108_c2_PAN_i0000000000</td>\n",
       "      <td>2021-04-06T04:09:09.650466+00:00</td>\n",
       "      <td>1.135013</td>\n",
       "      <td>43.555569</td>\n",
       "      <td>54.168736</td>\n",
       "      <td>5446.94886</td>\n",
       "      <td>3118.34933</td>\n",
       "      <td>-2698.79227</td>\n",
       "      <td>0.653283</td>\n",
       "      <td>0.373069</td>\n",
       "      <td>...</td>\n",
       "      <td>4588.27492</td>\n",
       "      <td>-2687.66724</td>\n",
       "      <td>0.215369</td>\n",
       "      <td>-0.712615</td>\n",
       "      <td>0.088349</td>\n",
       "      <td>-0.661809</td>\n",
       "      <td>16</td>\n",
       "      <td>POLYGON((131.04976305695 -25.2915903643759, 13...</td>\n",
       "      <td>0.52316</td>\n",
       "      <td>1301717367.65046573_sc00108_c2_PAN_i0000000000...</td>\n",
       "    </tr>\n",
       "    <tr>\n",
       "      <th>4</th>\n",
       "      <td>1301717367.67254806_sc00108_c2_PAN_i0000000001</td>\n",
       "      <td>2021-04-06T04:09:09.672548+00:00</td>\n",
       "      <td>1.134851</td>\n",
       "      <td>43.562772</td>\n",
       "      <td>54.176972</td>\n",
       "      <td>5446.90313</td>\n",
       "      <td>3118.29668</td>\n",
       "      <td>-2698.94581</td>\n",
       "      <td>0.653341</td>\n",
       "      <td>0.373022</td>\n",
       "      <td>...</td>\n",
       "      <td>4588.24975</td>\n",
       "      <td>-2687.82088</td>\n",
       "      <td>0.215390</td>\n",
       "      <td>-0.712554</td>\n",
       "      <td>0.088362</td>\n",
       "      <td>-0.661865</td>\n",
       "      <td>16</td>\n",
       "      <td>POLYGON((131.049760248284 -25.2921811831888, 1...</td>\n",
       "      <td>0.46002</td>\n",
       "      <td>1301717367.67254806_sc00108_c2_PAN_i0000000001...</td>\n",
       "    </tr>\n",
       "  </tbody>\n",
       "</table>\n",
       "<p>2 rows × 23 columns</p>\n",
       "</div>"
      ],
      "text/plain": [
       "                                             name  \\\n",
       "1  1301717367.65046573_sc00108_c2_PAN_i0000000000   \n",
       "4  1301717367.67254806_sc00108_c2_PAN_i0000000001   \n",
       "\n",
       "                           datetime       gsd     sat_az   sat_elev  \\\n",
       "1  2021-04-06T04:09:09.650466+00:00  1.135013  43.555569  54.168736   \n",
       "4  2021-04-06T04:09:09.672548+00:00  1.134851  43.562772  54.176972   \n",
       "\n",
       "   x_sat_eci_km  y_sat_eci_km  z_sat_eci_km    qw_eci    qx_eci  ...  \\\n",
       "1    5446.94886    3118.34933   -2698.79227  0.653283  0.373069  ...   \n",
       "4    5446.90313    3118.29668   -2698.94581  0.653341  0.373022  ...   \n",
       "\n",
       "   y_sat_ecef_km  z_sat_ecef_km   qw_ecef   qx_ecef   qy_ecef   qz_ecef  \\\n",
       "1     4588.27492    -2687.66724  0.215369 -0.712615  0.088349 -0.661809   \n",
       "4     4588.24975    -2687.82088  0.215390 -0.712554  0.088362 -0.661865   \n",
       "\n",
       "   bit_dpth                                               geom  \\\n",
       "1        16  POLYGON((131.04976305695 -25.2915903643759, 13...   \n",
       "4        16  POLYGON((131.049760248284 -25.2921811831888, 1...   \n",
       "\n",
       "   integration_time_ms                                           filename  \n",
       "1              0.52316  1301717367.65046573_sc00108_c2_PAN_i0000000000...  \n",
       "4              0.46002  1301717367.67254806_sc00108_c2_PAN_i0000000001...  \n",
       "\n",
       "[2 rows x 23 columns]"
      ]
     },
     "execution_count": 111,
     "metadata": {},
     "output_type": "execute_result"
    }
   ],
   "source": [
    "frame_index_c2.head(2)"
   ]
  },
  {
   "cell_type": "code",
   "execution_count": 113,
   "id": "9df57032-fc77-4c95-9047-0439d70c70de",
   "metadata": {},
   "outputs": [
    {
     "data": {
      "text/html": [
       "<div>\n",
       "<style scoped>\n",
       "    .dataframe tbody tr th:only-of-type {\n",
       "        vertical-align: middle;\n",
       "    }\n",
       "\n",
       "    .dataframe tbody tr th {\n",
       "        vertical-align: top;\n",
       "    }\n",
       "\n",
       "    .dataframe thead th {\n",
       "        text-align: right;\n",
       "    }\n",
       "</style>\n",
       "<table border=\"1\" class=\"dataframe\">\n",
       "  <thead>\n",
       "    <tr style=\"text-align: right;\">\n",
       "      <th></th>\n",
       "      <th>x_sat_ecef_km</th>\n",
       "      <th>y_sat_ecef_km</th>\n",
       "      <th>z_sat_ecef_km</th>\n",
       "    </tr>\n",
       "  </thead>\n",
       "  <tbody>\n",
       "    <tr>\n",
       "      <th>1</th>\n",
       "      <td>-4289.64010</td>\n",
       "      <td>4588.27492</td>\n",
       "      <td>-2687.66724</td>\n",
       "    </tr>\n",
       "    <tr>\n",
       "      <th>4</th>\n",
       "      <td>-4289.57102</td>\n",
       "      <td>4588.24975</td>\n",
       "      <td>-2687.82088</td>\n",
       "    </tr>\n",
       "    <tr>\n",
       "      <th>6</th>\n",
       "      <td>-4289.50184</td>\n",
       "      <td>4588.22453</td>\n",
       "      <td>-2687.97475</td>\n",
       "    </tr>\n",
       "    <tr>\n",
       "      <th>9</th>\n",
       "      <td>-4289.43264</td>\n",
       "      <td>4588.19931</td>\n",
       "      <td>-2688.12863</td>\n",
       "    </tr>\n",
       "    <tr>\n",
       "      <th>12</th>\n",
       "      <td>-4289.36345</td>\n",
       "      <td>4588.17409</td>\n",
       "      <td>-2688.28250</td>\n",
       "    </tr>\n",
       "    <tr>\n",
       "      <th>...</th>\n",
       "      <td>...</td>\n",
       "      <td>...</td>\n",
       "      <td>...</td>\n",
       "    </tr>\n",
       "    <tr>\n",
       "      <th>904</th>\n",
       "      <td>-4268.70025</td>\n",
       "      <td>4580.54902</td>\n",
       "      <td>-2733.91167</td>\n",
       "    </tr>\n",
       "    <tr>\n",
       "      <th>906</th>\n",
       "      <td>-4268.63031</td>\n",
       "      <td>4580.52290</td>\n",
       "      <td>-2734.06504</td>\n",
       "    </tr>\n",
       "    <tr>\n",
       "      <th>911</th>\n",
       "      <td>-4268.56033</td>\n",
       "      <td>4580.49677</td>\n",
       "      <td>-2734.21848</td>\n",
       "    </tr>\n",
       "    <tr>\n",
       "      <th>914</th>\n",
       "      <td>-4268.49038</td>\n",
       "      <td>4580.47064</td>\n",
       "      <td>-2734.37185</td>\n",
       "    </tr>\n",
       "    <tr>\n",
       "      <th>917</th>\n",
       "      <td>-4268.41729</td>\n",
       "      <td>4580.44334</td>\n",
       "      <td>-2734.53210</td>\n",
       "    </tr>\n",
       "  </tbody>\n",
       "</table>\n",
       "<p>306 rows × 3 columns</p>\n",
       "</div>"
      ],
      "text/plain": [
       "     x_sat_ecef_km  y_sat_ecef_km  z_sat_ecef_km\n",
       "1      -4289.64010     4588.27492    -2687.66724\n",
       "4      -4289.57102     4588.24975    -2687.82088\n",
       "6      -4289.50184     4588.22453    -2687.97475\n",
       "9      -4289.43264     4588.19931    -2688.12863\n",
       "12     -4289.36345     4588.17409    -2688.28250\n",
       "..             ...            ...            ...\n",
       "904    -4268.70025     4580.54902    -2733.91167\n",
       "906    -4268.63031     4580.52290    -2734.06504\n",
       "911    -4268.56033     4580.49677    -2734.21848\n",
       "914    -4268.49038     4580.47064    -2734.37185\n",
       "917    -4268.41729     4580.44334    -2734.53210\n",
       "\n",
       "[306 rows x 3 columns]"
      ]
     },
     "execution_count": 113,
     "metadata": {},
     "output_type": "execute_result"
    }
   ],
   "source": [
    "frame_index_c2[['x_sat_ecef_km','y_sat_ecef_km','z_sat_ecef_km']]"
   ]
  },
  {
   "cell_type": "code",
   "execution_count": 117,
   "id": "e05a7d2b-6d48-4e65-ad4f-51a4a6599adb",
   "metadata": {},
   "outputs": [],
   "source": [
    "def total_offset(row):\n",
    "    return np.sqrt((row['x_sat_ecef_km']**2+row['y_sat_ecef_km']**2+row['z_sat_ecef_km']**2))*1000"
   ]
  },
  {
   "cell_type": "code",
   "execution_count": 119,
   "id": "d438e8e1-460c-4f41-a4e7-2834a4ce957e",
   "metadata": {},
   "outputs": [
    {
     "name": "stderr",
     "output_type": "stream",
     "text": [
      "<ipython-input-119-e8b59fc7deee>:1: SettingWithCopyWarning: \n",
      "A value is trying to be set on a copy of a slice from a DataFrame.\n",
      "Try using .loc[row_indexer,col_indexer] = value instead\n",
      "\n",
      "See the caveats in the documentation: https://pandas.pydata.org/pandas-docs/stable/user_guide/indexing.html#returning-a-view-versus-a-copy\n",
      "  frame_index_c2['total_cam_offset'] = frame_index_c2[['x_sat_ecef_km','y_sat_ecef_km','z_sat_ecef_km']].diff().apply(total_offset,axis=1)\n"
     ]
    }
   ],
   "source": [
    "frame_index_c2['total_cam_offset'] = frame_index_c2[['x_sat_ecef_km','y_sat_ecef_km','z_sat_ecef_km']].diff().apply(total_offset,axis=1)"
   ]
  },
  {
   "cell_type": "code",
   "execution_count": 120,
   "id": "ea44c73e-1f5e-402e-ac62-785306cb156a",
   "metadata": {},
   "outputs": [
    {
     "data": {
      "text/html": [
       "<div>\n",
       "<style scoped>\n",
       "    .dataframe tbody tr th:only-of-type {\n",
       "        vertical-align: middle;\n",
       "    }\n",
       "\n",
       "    .dataframe tbody tr th {\n",
       "        vertical-align: top;\n",
       "    }\n",
       "\n",
       "    .dataframe thead th {\n",
       "        text-align: right;\n",
       "    }\n",
       "</style>\n",
       "<table border=\"1\" class=\"dataframe\">\n",
       "  <thead>\n",
       "    <tr style=\"text-align: right;\">\n",
       "      <th></th>\n",
       "      <th>name</th>\n",
       "      <th>datetime</th>\n",
       "      <th>gsd</th>\n",
       "      <th>sat_az</th>\n",
       "      <th>sat_elev</th>\n",
       "      <th>x_sat_eci_km</th>\n",
       "      <th>y_sat_eci_km</th>\n",
       "      <th>z_sat_eci_km</th>\n",
       "      <th>qw_eci</th>\n",
       "      <th>qx_eci</th>\n",
       "      <th>...</th>\n",
       "      <th>z_sat_ecef_km</th>\n",
       "      <th>qw_ecef</th>\n",
       "      <th>qx_ecef</th>\n",
       "      <th>qy_ecef</th>\n",
       "      <th>qz_ecef</th>\n",
       "      <th>bit_dpth</th>\n",
       "      <th>geom</th>\n",
       "      <th>integration_time_ms</th>\n",
       "      <th>filename</th>\n",
       "      <th>total_cam_offset</th>\n",
       "    </tr>\n",
       "  </thead>\n",
       "  <tbody>\n",
       "    <tr>\n",
       "      <th>1</th>\n",
       "      <td>1301717367.65046573_sc00108_c2_PAN_i0000000000</td>\n",
       "      <td>2021-04-06T04:09:09.650466+00:00</td>\n",
       "      <td>1.135013</td>\n",
       "      <td>43.555569</td>\n",
       "      <td>54.168736</td>\n",
       "      <td>5446.94886</td>\n",
       "      <td>3118.34933</td>\n",
       "      <td>-2698.79227</td>\n",
       "      <td>0.653283</td>\n",
       "      <td>0.373069</td>\n",
       "      <td>...</td>\n",
       "      <td>-2687.66724</td>\n",
       "      <td>0.215369</td>\n",
       "      <td>-0.712615</td>\n",
       "      <td>0.088349</td>\n",
       "      <td>-0.661809</td>\n",
       "      <td>16</td>\n",
       "      <td>POLYGON((131.04976305695 -25.2915903643759, 13...</td>\n",
       "      <td>0.52316</td>\n",
       "      <td>1301717367.65046573_sc00108_c2_PAN_i0000000000...</td>\n",
       "      <td>NaN</td>\n",
       "    </tr>\n",
       "    <tr>\n",
       "      <th>4</th>\n",
       "      <td>1301717367.67254806_sc00108_c2_PAN_i0000000001</td>\n",
       "      <td>2021-04-06T04:09:09.672548+00:00</td>\n",
       "      <td>1.134851</td>\n",
       "      <td>43.562772</td>\n",
       "      <td>54.176972</td>\n",
       "      <td>5446.90313</td>\n",
       "      <td>3118.29668</td>\n",
       "      <td>-2698.94581</td>\n",
       "      <td>0.653341</td>\n",
       "      <td>0.373022</td>\n",
       "      <td>...</td>\n",
       "      <td>-2687.82088</td>\n",
       "      <td>0.215390</td>\n",
       "      <td>-0.712554</td>\n",
       "      <td>0.088362</td>\n",
       "      <td>-0.661865</td>\n",
       "      <td>16</td>\n",
       "      <td>POLYGON((131.049760248284 -25.2921811831888, 1...</td>\n",
       "      <td>0.46002</td>\n",
       "      <td>1301717367.67254806_sc00108_c2_PAN_i0000000001...</td>\n",
       "      <td>170.325644</td>\n",
       "    </tr>\n",
       "    <tr>\n",
       "      <th>6</th>\n",
       "      <td>1301717367.69466472_sc00108_c2_PAN_i0000000002</td>\n",
       "      <td>2021-04-06T04:09:09.694665+00:00</td>\n",
       "      <td>1.134703</td>\n",
       "      <td>43.569988</td>\n",
       "      <td>54.185219</td>\n",
       "      <td>5446.85732</td>\n",
       "      <td>3118.24395</td>\n",
       "      <td>-2699.09959</td>\n",
       "      <td>0.653398</td>\n",
       "      <td>0.372975</td>\n",
       "      <td>...</td>\n",
       "      <td>-2687.97475</td>\n",
       "      <td>0.215412</td>\n",
       "      <td>-0.712494</td>\n",
       "      <td>0.088375</td>\n",
       "      <td>-0.661921</td>\n",
       "      <td>16</td>\n",
       "      <td>POLYGON((131.049764812089 -25.2927659348767, 1...</td>\n",
       "      <td>0.46002</td>\n",
       "      <td>1301717367.69466472_sc00108_c2_PAN_i0000000002...</td>\n",
       "      <td>170.581059</td>\n",
       "    </tr>\n",
       "    <tr>\n",
       "      <th>9</th>\n",
       "      <td>1301717367.71678233_sc00108_c2_PAN_i0000000003</td>\n",
       "      <td>2021-04-06T04:09:09.716782+00:00</td>\n",
       "      <td>1.134540</td>\n",
       "      <td>43.577207</td>\n",
       "      <td>54.193467</td>\n",
       "      <td>5446.81151</td>\n",
       "      <td>3118.19121</td>\n",
       "      <td>-2699.25338</td>\n",
       "      <td>0.653455</td>\n",
       "      <td>0.372928</td>\n",
       "      <td>...</td>\n",
       "      <td>-2688.12863</td>\n",
       "      <td>0.215434</td>\n",
       "      <td>-0.712434</td>\n",
       "      <td>0.088388</td>\n",
       "      <td>-0.661978</td>\n",
       "      <td>16</td>\n",
       "      <td>POLYGON((131.049773684881 -25.2933467270526, 1...</td>\n",
       "      <td>0.46002</td>\n",
       "      <td>1301717367.71678233_sc00108_c2_PAN_i0000000003...</td>\n",
       "      <td>170.598191</td>\n",
       "    </tr>\n",
       "    <tr>\n",
       "      <th>12</th>\n",
       "      <td>1301717367.73889995_sc00108_c2_PAN_i0000000004</td>\n",
       "      <td>2021-04-06T04:09:09.738900+00:00</td>\n",
       "      <td>1.134323</td>\n",
       "      <td>43.584427</td>\n",
       "      <td>54.201714</td>\n",
       "      <td>5446.76570</td>\n",
       "      <td>3118.13847</td>\n",
       "      <td>-2699.40715</td>\n",
       "      <td>0.653513</td>\n",
       "      <td>0.372881</td>\n",
       "      <td>...</td>\n",
       "      <td>-2688.28250</td>\n",
       "      <td>0.215455</td>\n",
       "      <td>-0.712373</td>\n",
       "      <td>0.088400</td>\n",
       "      <td>-0.662034</td>\n",
       "      <td>16</td>\n",
       "      <td>POLYGON((131.04977682712 -25.2939331452357, 13...</td>\n",
       "      <td>0.46002</td>\n",
       "      <td>1301717367.73889995_sc00108_c2_PAN_i0000000004...</td>\n",
       "      <td>170.585115</td>\n",
       "    </tr>\n",
       "  </tbody>\n",
       "</table>\n",
       "<p>5 rows × 24 columns</p>\n",
       "</div>"
      ],
      "text/plain": [
       "                                              name  \\\n",
       "1   1301717367.65046573_sc00108_c2_PAN_i0000000000   \n",
       "4   1301717367.67254806_sc00108_c2_PAN_i0000000001   \n",
       "6   1301717367.69466472_sc00108_c2_PAN_i0000000002   \n",
       "9   1301717367.71678233_sc00108_c2_PAN_i0000000003   \n",
       "12  1301717367.73889995_sc00108_c2_PAN_i0000000004   \n",
       "\n",
       "                            datetime       gsd     sat_az   sat_elev  \\\n",
       "1   2021-04-06T04:09:09.650466+00:00  1.135013  43.555569  54.168736   \n",
       "4   2021-04-06T04:09:09.672548+00:00  1.134851  43.562772  54.176972   \n",
       "6   2021-04-06T04:09:09.694665+00:00  1.134703  43.569988  54.185219   \n",
       "9   2021-04-06T04:09:09.716782+00:00  1.134540  43.577207  54.193467   \n",
       "12  2021-04-06T04:09:09.738900+00:00  1.134323  43.584427  54.201714   \n",
       "\n",
       "    x_sat_eci_km  y_sat_eci_km  z_sat_eci_km    qw_eci    qx_eci  ...  \\\n",
       "1     5446.94886    3118.34933   -2698.79227  0.653283  0.373069  ...   \n",
       "4     5446.90313    3118.29668   -2698.94581  0.653341  0.373022  ...   \n",
       "6     5446.85732    3118.24395   -2699.09959  0.653398  0.372975  ...   \n",
       "9     5446.81151    3118.19121   -2699.25338  0.653455  0.372928  ...   \n",
       "12    5446.76570    3118.13847   -2699.40715  0.653513  0.372881  ...   \n",
       "\n",
       "    z_sat_ecef_km   qw_ecef   qx_ecef   qy_ecef   qz_ecef  bit_dpth  \\\n",
       "1     -2687.66724  0.215369 -0.712615  0.088349 -0.661809        16   \n",
       "4     -2687.82088  0.215390 -0.712554  0.088362 -0.661865        16   \n",
       "6     -2687.97475  0.215412 -0.712494  0.088375 -0.661921        16   \n",
       "9     -2688.12863  0.215434 -0.712434  0.088388 -0.661978        16   \n",
       "12    -2688.28250  0.215455 -0.712373  0.088400 -0.662034        16   \n",
       "\n",
       "                                                 geom  integration_time_ms  \\\n",
       "1   POLYGON((131.04976305695 -25.2915903643759, 13...              0.52316   \n",
       "4   POLYGON((131.049760248284 -25.2921811831888, 1...              0.46002   \n",
       "6   POLYGON((131.049764812089 -25.2927659348767, 1...              0.46002   \n",
       "9   POLYGON((131.049773684881 -25.2933467270526, 1...              0.46002   \n",
       "12  POLYGON((131.04977682712 -25.2939331452357, 13...              0.46002   \n",
       "\n",
       "                                             filename  total_cam_offset  \n",
       "1   1301717367.65046573_sc00108_c2_PAN_i0000000000...               NaN  \n",
       "4   1301717367.67254806_sc00108_c2_PAN_i0000000001...        170.325644  \n",
       "6   1301717367.69466472_sc00108_c2_PAN_i0000000002...        170.581059  \n",
       "9   1301717367.71678233_sc00108_c2_PAN_i0000000003...        170.598191  \n",
       "12  1301717367.73889995_sc00108_c2_PAN_i0000000004...        170.585115  \n",
       "\n",
       "[5 rows x 24 columns]"
      ]
     },
     "execution_count": 120,
     "metadata": {},
     "output_type": "execute_result"
    }
   ],
   "source": [
    "frame_index_c2.head()"
   ]
  },
  {
   "cell_type": "code",
   "execution_count": 126,
   "id": "d8b0657c-20e8-4906-af78-1d31b5c5e9b7",
   "metadata": {},
   "outputs": [
    {
     "name": "stdout",
     "output_type": "stream",
     "text": [
      "fontconfig\t\t     frame_index_with_orient_c2.csv  l1a_frames\n",
      "frame_index.csv\t\t     frame_index_without_orient.csv  processing\n",
      "frame_index_with_orient.csv  isce.log\t\t\t     refdem\n"
     ]
    }
   ],
   "source": [
    "! ls"
   ]
  },
  {
   "cell_type": "markdown",
   "id": "200c68fa-cb76-446a-86cc-4777db40b319",
   "metadata": {},
   "source": [
    "### Initialise camera using RPC model and camgen"
   ]
  },
  {
   "cell_type": "code",
   "execution_count": 121,
   "id": "ebf5f564-89dd-4aff-ab9d-13dfab8cab8a",
   "metadata": {},
   "outputs": [],
   "source": [
    "from p_tqdm import p_map"
   ]
  },
  {
   "cell_type": "code",
   "execution_count": 124,
   "id": "0644f569-8bb1-4746-8ee3-f423fc3f322c",
   "metadata": {},
   "outputs": [],
   "source": [
    "product_level = 'l1a'\n",
    "outdir = 'processing/camera_camgen_rpc/'\n",
    "if not os.path.exists(outdir):\n",
    "    os.makedirs(outdir)\n",
    "dem = 'refdem/change_uluru_srtm.tif'"
   ]
  },
  {
   "cell_type": "code",
   "execution_count": null,
   "id": "85f6a36d-8156-406d-ab20-12204d4bf811",
   "metadata": {},
   "outputs": [],
   "source": []
  },
  {
   "cell_type": "code",
   "execution_count": 127,
   "id": "b8745644-4231-4e8f-87aa-a85540d3cef2",
   "metadata": {},
   "outputs": [
    {
     "data": {
      "application/vnd.jupyter.widget-view+json": {
       "model_id": "9ae1259add45437ca9fe0fcb9b711a24",
       "version_major": 2,
       "version_minor": 0
      },
      "text/plain": [
       "  0%|          | 0/306 [00:00<?, ?it/s]"
      ]
     },
     "metadata": {},
     "output_type": "display_data"
    },
    {
     "name": "stdout",
     "output_type": "stream",
     "text": [
      "writing gcp with basename removed\n",
      "Total expected GCP 2448\n",
      "Total number of GCPs found 2447\n"
     ]
    }
   ],
   "source": [
    "img_list = sorted(glob.glob('processing/c2/*.tiff'))\n",
    "img_list = [os.path.splitext(os.path.basename(img))[0] for img in img_list]\n",
    "cam_list = [glob.glob(os.path.join('processing/c2/','{}*.tiff'.format(img)))[0] for img in img_list]\n",
    "n = len(img_list)\n",
    "if product_level == 'l1b':\n",
    "    pitch = [0.8]*n\n",
    "else:\n",
    "    pitch = [1.0]*n\n",
    "out_fn = [os.path.join(outdir,'{}_rpc.tsai'.format(frame)) for frame in img_list]\n",
    "out_gcp = [os.path.join(outdir,'{}_rpc.gcp'.format(frame)) for frame in img_list]\n",
    "camera = cam_list\n",
    "frame_index = [None]*n\n",
    "img_list = cam_list\n",
    "gcp_factor = 8\n",
    "fl = [553846.153846]*n\n",
    "cx = [1280]*n\n",
    "cy = [540]*n\n",
    "dem = dem\n",
    "ht_datum = [malib.get_stats_dict(iolib.fn_getma(dem))['median']]*n # use this value for height where DEM has no-data\n",
    "gcp_std = [1]*n\n",
    "datum = ['WGS84']*n\n",
    "refdem = [dem]*n\n",
    "n_proc = 20\n",
    "#n_proc = cpu_count()\n",
    "cam_gen_log = p_map(asp.cam_gen,img_list,fl,cx,cy,pitch,ht_datum,gcp_std,out_fn,out_gcp,datum,refdem,camera,frame_index,num_cpus = n_proc)\n",
    "print(\"writing gcp with basename removed\")\n",
    "# count expexted gcp \n",
    "print(f\"Total expected GCP {gcp_factor*n}\")    \n",
    "asp.clean_gcp(out_gcp,outdir)\n"
   ]
  },
  {
   "cell_type": "code",
   "execution_count": 129,
   "id": "cd6a1d62-10e9-40c8-b838-eacf76742b44",
   "metadata": {},
   "outputs": [],
   "source": [
    "camera_folder,gcp_folder = outdir,outdir"
   ]
  },
  {
   "cell_type": "code",
   "execution_count": 130,
   "id": "455dd9a6-f724-45d7-92e9-3a293ca9d6b8",
   "metadata": {},
   "outputs": [
    {
     "ename": "IndexError",
     "evalue": "list index out of range",
     "output_type": "error",
     "traceback": [
      "\u001b[0;31m---------------------------------------------------------------------------\u001b[0m",
      "\u001b[0;31mIndexError\u001b[0m                                Traceback (most recent call last)",
      "\u001b[0;32m<ipython-input-130-20f7e7d9dd52>\u001b[0m in \u001b[0;36m<module>\u001b[0;34m\u001b[0m\n\u001b[0;32m----> 1\u001b[0;31m \u001b[0;34m[\u001b[0m\u001b[0mglob\u001b[0m\u001b[0;34m.\u001b[0m\u001b[0mglob\u001b[0m\u001b[0;34m(\u001b[0m\u001b[0mos\u001b[0m\u001b[0;34m.\u001b[0m\u001b[0mpath\u001b[0m\u001b[0;34m.\u001b[0m\u001b[0mjoin\u001b[0m\u001b[0;34m(\u001b[0m\u001b[0mcamera_folder\u001b[0m\u001b[0;34m,\u001b[0m\u001b[0;34m'*{}*.tsai'\u001b[0m\u001b[0;34m.\u001b[0m\u001b[0mformat\u001b[0m\u001b[0;34m(\u001b[0m\u001b[0mos\u001b[0m\u001b[0;34m.\u001b[0m\u001b[0mpath\u001b[0m\u001b[0;34m.\u001b[0m\u001b[0mbasename\u001b[0m\u001b[0;34m(\u001b[0m\u001b[0mframe\u001b[0m\u001b[0;34m)\u001b[0m\u001b[0;34m)\u001b[0m\u001b[0;34m)\u001b[0m\u001b[0;34m)\u001b[0m\u001b[0;34m[\u001b[0m\u001b[0;36m0\u001b[0m\u001b[0;34m]\u001b[0m \u001b[0;32mfor\u001b[0m \u001b[0mframe\u001b[0m \u001b[0;32min\u001b[0m \u001b[0mframe_index_c2\u001b[0m\u001b[0;34m[\u001b[0m\u001b[0;34m'name'\u001b[0m\u001b[0;34m]\u001b[0m\u001b[0;34m.\u001b[0m\u001b[0mvalues\u001b[0m\u001b[0;34m]\u001b[0m\u001b[0;34m\u001b[0m\u001b[0;34m\u001b[0m\u001b[0m\n\u001b[0m",
      "\u001b[0;32m<ipython-input-130-20f7e7d9dd52>\u001b[0m in \u001b[0;36m<listcomp>\u001b[0;34m(.0)\u001b[0m\n\u001b[0;32m----> 1\u001b[0;31m \u001b[0;34m[\u001b[0m\u001b[0mglob\u001b[0m\u001b[0;34m.\u001b[0m\u001b[0mglob\u001b[0m\u001b[0;34m(\u001b[0m\u001b[0mos\u001b[0m\u001b[0;34m.\u001b[0m\u001b[0mpath\u001b[0m\u001b[0;34m.\u001b[0m\u001b[0mjoin\u001b[0m\u001b[0;34m(\u001b[0m\u001b[0mcamera_folder\u001b[0m\u001b[0;34m,\u001b[0m\u001b[0;34m'*{}*.tsai'\u001b[0m\u001b[0;34m.\u001b[0m\u001b[0mformat\u001b[0m\u001b[0;34m(\u001b[0m\u001b[0mos\u001b[0m\u001b[0;34m.\u001b[0m\u001b[0mpath\u001b[0m\u001b[0;34m.\u001b[0m\u001b[0mbasename\u001b[0m\u001b[0;34m(\u001b[0m\u001b[0mframe\u001b[0m\u001b[0;34m)\u001b[0m\u001b[0;34m)\u001b[0m\u001b[0;34m)\u001b[0m\u001b[0;34m)\u001b[0m\u001b[0;34m[\u001b[0m\u001b[0;36m0\u001b[0m\u001b[0;34m]\u001b[0m \u001b[0;32mfor\u001b[0m \u001b[0mframe\u001b[0m \u001b[0;32min\u001b[0m \u001b[0mframe_index_c2\u001b[0m\u001b[0;34m[\u001b[0m\u001b[0;34m'name'\u001b[0m\u001b[0;34m]\u001b[0m\u001b[0;34m.\u001b[0m\u001b[0mvalues\u001b[0m\u001b[0;34m]\u001b[0m\u001b[0;34m\u001b[0m\u001b[0;34m\u001b[0m\u001b[0m\n\u001b[0m",
      "\u001b[0;31mIndexError\u001b[0m: list index out of range"
     ]
    }
   ],
   "source": [
    "[glob.glob(os.path.join(camera_folder,'*{}*.tsai'.format(os.path.basename(frame))))[0] for frame in frame_index_c2['name'].values]"
   ]
  },
  {
   "cell_type": "code",
   "execution_count": 132,
   "id": "bad4d07a-a041-4725-b9dd-658e7937e898",
   "metadata": {},
   "outputs": [
    {
     "data": {
      "text/plain": [
       "'1301717367.65046573_sc00108_c2_PAN_i0000000000'"
      ]
     },
     "execution_count": 132,
     "metadata": {},
     "output_type": "execute_result"
    }
   ],
   "source": [
    "frame_index_c2['name'].values[0]"
   ]
  },
  {
   "cell_type": "code",
   "execution_count": 137,
   "id": "65bdb0f6-00ef-4fcd-ba84-f85c10ed9714",
   "metadata": {},
   "outputs": [],
   "source": [
    "test = (os.path.join(camera_folder,'*{}*.tsai'.format(os.path.basename(frame_index_c2['name'].values[0]))))"
   ]
  },
  {
   "cell_type": "code",
   "execution_count": 138,
   "id": "57b89f33-6930-44c9-8c7d-3b5247ab9644",
   "metadata": {},
   "outputs": [
    {
     "name": "stdout",
     "output_type": "stream",
     "text": [
      "processing/camera_camgen_rpc/1301717367.65046573_sc00108_c2_PAN_i0000000000_rpc.tsai\n"
     ]
    }
   ],
   "source": [
    "! ls $test"
   ]
  },
  {
   "cell_type": "code",
   "execution_count": 140,
   "id": "1b46ae4d-0cdd-4f9f-bc82-e70ca8e07563",
   "metadata": {},
   "outputs": [
    {
     "data": {
      "text/plain": [
       "292"
      ]
     },
     "execution_count": 140,
     "metadata": {},
     "output_type": "execute_result"
    }
   ],
   "source": [
    "len(sorted(glob.glob('processing/camera_camgen_rpc/*.tsai')))"
   ]
  },
  {
   "cell_type": "markdown",
   "id": "d309062c-efd6-4251-86a4-55d8eef48229",
   "metadata": {},
   "source": [
    "### Check with scipy camera"
   ]
  },
  {
   "cell_type": "code",
   "execution_count": 141,
   "id": "38a152ae-d439-4a61-9ff0-268e532003d6",
   "metadata": {},
   "outputs": [
    {
     "name": "stderr",
     "output_type": "stream",
     "text": [
      "/nobackupp11/sbhusha1/sw/imview/imview/lib/pltlib.py:149: MatplotlibDeprecationWarning: You are modifying the state of a globally registered colormap. In future versions, you will not be able to modify a registered colormap in-place. To remove this warning, you can make a copy of the colormap first. cmap = copy.copy(mpl.cm.get_cmap(\"RdBu\"))\n",
      "  cmap.set_bad('k', alpha=1)\n"
     ]
    },
    {
     "data": {
      "text/plain": [
       "<AxesSubplot:>"
      ]
     },
     "execution_count": 141,
     "metadata": {},
     "output_type": "execute_result"
    },
    {
     "data": {
      "image/png": "[encoded data removed]",
      "text/plain": [
       "<Figure size 432x288 with 4 Axes>"
      ]
     },
     "metadata": {
      "needs_background": "light"
     },
     "output_type": "display_data"
    }
   ],
   "source": [
    "disparity = 'processing/c2_first2_pinholeasp_scipy/run-D.tif'\n",
    "dx,dy  = [iolib.fn_getma(disparity,i) for i in range(1,3)]\n",
    "f,ax = plt.subplots(1,2)\n",
    "pltlib.iv(dx,ax=ax[0],cmap='RdBu',clim=malib.calcperc_sym(dx))\n",
    "pltlib.iv(dy,ax=ax[1],cmap='RdBu',clim=malib.calcperc_sym(dy))"
   ]
  },
  {
   "cell_type": "code",
   "execution_count": 6,
   "id": "8274507c-4350-438c-9090-741c9b62ccad",
   "metadata": {},
   "outputs": [],
   "source": [
    "### Correct frame_index's"
   ]
  },
  {
   "cell_type": "code",
   "execution_count": 28,
   "id": "77ed442b-0f3b-4eea-a5ce-7b1b4efe1910",
   "metadata": {},
   "outputs": [],
   "source": [
    "for_frame_fn = 'frame_index.csv'\n",
    "nadir_frame_fn = '../s108_20210406T040941Z/frame_index.csv'\n",
    "aft_frame_fn = '../s108_20210406T041015Z/frame_index.csv'"
   ]
  },
  {
   "cell_type": "code",
   "execution_count": 31,
   "id": "e4dfccaa-af72-42b7-8ef3-578ddd8dba83",
   "metadata": {},
   "outputs": [
    {
     "name": "stdout",
     "output_type": "stream",
     "text": [
      "1301717367.65046096_sc00108_c3_PAN_i0000000000\n"
     ]
    }
   ],
   "source": [
    "for_frame = modernize_frame_index(for_frame_fn)"
   ]
  },
  {
   "cell_type": "code",
   "execution_count": 13,
   "id": "51d8b463-3c92-49c5-b7b4-d26a1b119b4c",
   "metadata": {},
   "outputs": [
    {
     "data": {
      "text/html": [
       "<div>\n",
       "<style scoped>\n",
       "    .dataframe tbody tr th:only-of-type {\n",
       "        vertical-align: middle;\n",
       "    }\n",
       "\n",
       "    .dataframe tbody tr th {\n",
       "        vertical-align: top;\n",
       "    }\n",
       "\n",
       "    .dataframe thead th {\n",
       "        text-align: right;\n",
       "    }\n",
       "</style>\n",
       "<table border=\"1\" class=\"dataframe\">\n",
       "  <thead>\n",
       "    <tr style=\"text-align: right;\">\n",
       "      <th></th>\n",
       "      <th>name</th>\n",
       "      <th>datetime</th>\n",
       "      <th>gsd</th>\n",
       "      <th>sat_az</th>\n",
       "      <th>sat_elev</th>\n",
       "      <th>x_sat_eci_km</th>\n",
       "      <th>y_sat_eci_km</th>\n",
       "      <th>z_sat_eci_km</th>\n",
       "      <th>qw_eci</th>\n",
       "      <th>qx_eci</th>\n",
       "      <th>...</th>\n",
       "      <th>y_sat_ecef_km</th>\n",
       "      <th>z_sat_ecef_km</th>\n",
       "      <th>qw_ecef</th>\n",
       "      <th>qx_ecef</th>\n",
       "      <th>qy_ecef</th>\n",
       "      <th>qz_ecef</th>\n",
       "      <th>bit_dpth</th>\n",
       "      <th>geom</th>\n",
       "      <th>integration_time_ms</th>\n",
       "      <th>filename</th>\n",
       "    </tr>\n",
       "  </thead>\n",
       "  <tbody>\n",
       "    <tr>\n",
       "      <th>0</th>\n",
       "      <td>1301717367.65046096_sc00108_c3_PAN_i0000000000</td>\n",
       "      <td>2021-04-06T04:09:09.650461+00:00</td>\n",
       "      <td>1.124777</td>\n",
       "      <td>43.757951</td>\n",
       "      <td>54.626309</td>\n",
       "      <td>5446.94887</td>\n",
       "      <td>3118.34934</td>\n",
       "      <td>-2698.79223</td>\n",
       "      <td>0.653283</td>\n",
       "      <td>0.373069</td>\n",
       "      <td>...</td>\n",
       "      <td>4588.27493</td>\n",
       "      <td>-2687.66720</td>\n",
       "      <td>0.215369</td>\n",
       "      <td>-0.712615</td>\n",
       "      <td>0.088349</td>\n",
       "      <td>-0.661809</td>\n",
       "      <td>16</td>\n",
       "      <td>POLYGON((131.075182669813 -25.252703375099, 13...</td>\n",
       "      <td>0.52316</td>\n",
       "      <td>1301717367.65046096_sc00108_c3_PAN_i0000000000...</td>\n",
       "    </tr>\n",
       "    <tr>\n",
       "      <th>1</th>\n",
       "      <td>1301717367.65046573_sc00108_c2_PAN_i0000000000</td>\n",
       "      <td>2021-04-06T04:09:09.650466+00:00</td>\n",
       "      <td>1.135013</td>\n",
       "      <td>43.555569</td>\n",
       "      <td>54.168736</td>\n",
       "      <td>5446.94886</td>\n",
       "      <td>3118.34933</td>\n",
       "      <td>-2698.79227</td>\n",
       "      <td>0.653283</td>\n",
       "      <td>0.373069</td>\n",
       "      <td>...</td>\n",
       "      <td>4588.27492</td>\n",
       "      <td>-2687.66724</td>\n",
       "      <td>0.215369</td>\n",
       "      <td>-0.712615</td>\n",
       "      <td>0.088349</td>\n",
       "      <td>-0.661809</td>\n",
       "      <td>16</td>\n",
       "      <td>POLYGON((131.04976305695 -25.2915903643759, 13...</td>\n",
       "      <td>0.52316</td>\n",
       "      <td>1301717367.65046573_sc00108_c2_PAN_i0000000000...</td>\n",
       "    </tr>\n",
       "  </tbody>\n",
       "</table>\n",
       "<p>2 rows × 23 columns</p>\n",
       "</div>"
      ],
      "text/plain": [
       "                                             name  \\\n",
       "0  1301717367.65046096_sc00108_c3_PAN_i0000000000   \n",
       "1  1301717367.65046573_sc00108_c2_PAN_i0000000000   \n",
       "\n",
       "                           datetime       gsd     sat_az   sat_elev  \\\n",
       "0  2021-04-06T04:09:09.650461+00:00  1.124777  43.757951  54.626309   \n",
       "1  2021-04-06T04:09:09.650466+00:00  1.135013  43.555569  54.168736   \n",
       "\n",
       "   x_sat_eci_km  y_sat_eci_km  z_sat_eci_km    qw_eci    qx_eci  ...  \\\n",
       "0    5446.94887    3118.34934   -2698.79223  0.653283  0.373069  ...   \n",
       "1    5446.94886    3118.34933   -2698.79227  0.653283  0.373069  ...   \n",
       "\n",
       "   y_sat_ecef_km  z_sat_ecef_km   qw_ecef   qx_ecef   qy_ecef   qz_ecef  \\\n",
       "0     4588.27493    -2687.66720  0.215369 -0.712615  0.088349 -0.661809   \n",
       "1     4588.27492    -2687.66724  0.215369 -0.712615  0.088349 -0.661809   \n",
       "\n",
       "   bit_dpth                                               geom  \\\n",
       "0        16  POLYGON((131.075182669813 -25.252703375099, 13...   \n",
       "1        16  POLYGON((131.04976305695 -25.2915903643759, 13...   \n",
       "\n",
       "   integration_time_ms                                           filename  \n",
       "0              0.52316  1301717367.65046096_sc00108_c3_PAN_i0000000000...  \n",
       "1              0.52316  1301717367.65046573_sc00108_c2_PAN_i0000000000...  \n",
       "\n",
       "[2 rows x 23 columns]"
      ]
     },
     "execution_count": 13,
     "metadata": {},
     "output_type": "execute_result"
    }
   ],
   "source": [
    "for_frame.head(2)"
   ]
  },
  {
   "cell_type": "code",
   "execution_count": 14,
   "id": "2ac0aba0-dc8a-404a-a05a-d8e98879c2dc",
   "metadata": {},
   "outputs": [],
   "source": [
    "nadir_frame = modernize_frame_index(nadir_frame_fn)\n",
    "aft_frame = modernize_frame_index(aft_frame_fn)"
   ]
  },
  {
   "cell_type": "code",
   "execution_count": 37,
   "id": "8d53c25d-bcf4-4785-ba85-5efea74d447e",
   "metadata": {},
   "outputs": [],
   "source": [
    "for_c2_img_list = sorted(glob.glob('l1a_frames/*c2*.tif'))\n",
    "nadir_c2_img_list = sorted(glob.glob('../s108_20210406T040941Z/l1a_frames/*c2*.tif'))\n",
    "aft_c2_img_list = sorted(glob.glob('../s108_20210406T041015Z/l1a_frames/*c2*.tif'))"
   ]
  },
  {
   "cell_type": "code",
   "execution_count": 38,
   "id": "fcf026f9-5fa5-41a7-bb5d-15822beadc72",
   "metadata": {},
   "outputs": [],
   "source": [
    "for_base = [os.path.splitext(os.path.basename(frame))[0] for frame in for_c2_img_list]\n",
    "nadir_base = [os.path.splitext(os.path.basename(frame))[0] for frame in nadir_c2_img_list]\n",
    "aft_base = [os.path.splitext(os.path.basename(frame))[0] for frame in aft_c2_img_list]\n",
    "\n",
    "\n",
    "mask = for_frame['name'].isin(for_base)\n",
    "for_frame_c2 = for_frame[mask]\n",
    "\n",
    "mask = nadir_frame['name'].isin(nadir_base)\n",
    "nadir_frame_c2 = nadir_frame[mask]\n",
    "\n",
    "mask = aft_frame['name'].isin(aft_base)\n",
    "aft_frame_c2 = aft_frame[mask]"
   ]
  },
  {
   "cell_type": "code",
   "execution_count": 39,
   "id": "0247f0d6-3e05-4736-9aeb-98eb5d369545",
   "metadata": {},
   "outputs": [],
   "source": [
    "for_c2_out = '../processing/frame_index_format_for_c2.csv'\n",
    "nadir_c2_out = '../processing/frame_index_format_nadir_c2.csv'\n",
    "aft_c2_out = '../processing/frame_index_format_aft_c2.csv'"
   ]
  },
  {
   "cell_type": "code",
   "execution_count": 40,
   "id": "1de65d26-7130-4c0c-80fa-5983b29c229d",
   "metadata": {},
   "outputs": [],
   "source": [
    "for_frame_c2.to_csv(for_c2_out,index=False)\n",
    "nadir_frame_c2.to_csv(nadir_c2_out,index=False)\n",
    "aft_frame_c2.to_csv(aft_c2_out,index=False)"
   ]
  },
  {
   "cell_type": "code",
   "execution_count": 42,
   "id": "a65d1332-fc52-4d21-9f28-91ec788004b5",
   "metadata": {},
   "outputs": [
    {
     "data": {
      "text/plain": [
       "282"
      ]
     },
     "execution_count": 42,
     "metadata": {},
     "output_type": "execute_result"
    }
   ],
   "source": [
    "len(aft_base)"
   ]
  },
  {
   "cell_type": "markdown",
   "id": "f7d1e423-fbf2-4b1d-a114-2019ffd9a163",
   "metadata": {},
   "source": [
    "### Find intersections between frames"
   ]
  },
  {
   "cell_type": "code",
   "execution_count": 49,
   "id": "d3dff489-9cdf-4ffd-af20-c69530efdbf3",
   "metadata": {},
   "outputs": [
    {
     "name": "stderr",
     "output_type": "stream",
     "text": [
      "/nobackupp11/sbhusha1/miniconda3/envs/bhushan_PY3/lib/python3.8/site-packages/pyproj/crs/crs.py:53: FutureWarning: '+init=<authority>:<code>' syntax is deprecated. '<authority>:<code>' is the preferred initialization method. When making the change, be mindful of axis order changes: https://pyproj4.github.io/pyproj/stable/gotchas.html#axis-order-changes-in-proj-6\n",
      "  return _prepare_from_string(\" \".join(pjargs))\n"
     ]
    }
   ],
   "source": [
    "for_c2 = skysat.parse_frame_index(for_c2_out).to_crs('EPSG:32752')\n",
    "nadir_c2 = skysat.parse_frame_index(nadir_c2_out).to_crs('EPSG:32752')\n",
    "aft_c2 = skysat.parse_frame_index(aft_c2_out).to_crs('EPSG:32752')"
   ]
  },
  {
   "cell_type": "code",
   "execution_count": 51,
   "id": "03faafdd-0349-46e7-83ba-bad9372221d1",
   "metadata": {},
   "outputs": [],
   "source": [
    "opt1_intersect = gpd.overlay(for_c2,nadir_c2,how='intersection')\n",
    "opt2_intersect = gpd.overlay(for_c2,aft_c2,how='intersection')\n",
    "opt3_intersect = gpd.overlay(nadir_c2,aft_c2,how='intersection')"
   ]
  },
  {
   "cell_type": "code",
   "execution_count": 55,
   "id": "b6745bb7-fab4-45df-a36a-fdc0ce37e2b0",
   "metadata": {},
   "outputs": [],
   "source": [
    "overlap_c2_fn = '../processing/c2_overlap.txt'\n",
    "with open(overlap_c2_fn,'w') as f:\n",
    "    for df in [opt1_intersect,opt2_intersect,opt3_intersect]:\n",
    "        for idx,img1 in enumerate(df['name_1'].values):\n",
    "            img2 = df['name_2'].values[idx]\n",
    "            img1 = 'c2/'+img1+'.tiff'\n",
    "            img2 = 'c2/'+img2+'.tiff'\n",
    "            f.write(f\"{img1} {img2} \\n\")"
   ]
  },
  {
   "cell_type": "code",
   "execution_count": null,
   "id": "976ceea0-eff9-4d36-bec4-290f615d341e",
   "metadata": {},
   "outputs": [],
   "source": []
  }
 ],
 "metadata": {
  "kernelspec": {
   "display_name": "Python 3",
   "language": "python",
   "name": "python3"
  },
  "language_info": {
   "codemirror_mode": {
    "name": "ipython",
    "version": 3
   },
   "file_extension": ".py",
   "mimetype": "text/x-python",
   "name": "python",
   "nbconvert_exporter": "python",
   "pygments_lexer": "ipython3",
   "version": "3.8.8"
  }
 },
 "nbformat": 4,
 "nbformat_minor": 5
}
