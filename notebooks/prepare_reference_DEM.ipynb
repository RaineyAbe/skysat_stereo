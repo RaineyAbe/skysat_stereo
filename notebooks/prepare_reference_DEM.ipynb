{
 "cells": [
  {
   "cell_type": "markdown",
   "metadata": {},
   "source": [
    "# Prepare reference DEM"
   ]
  },
  {
   "cell_type": "code",
   "execution_count": null,
   "metadata": {},
   "outputs": [],
   "source": [
    "import os,glob\n",
    "import xdem\n",
    "import subprocess\n",
    "import matplotlib.pyplot as plt"
   ]
  },
  {
   "cell_type": "code",
   "execution_count": null,
   "metadata": {},
   "outputs": [],
   "source": [
    "data_dir = '/Volumes/LaCie/raineyaberle/Research/PhD/SkySat-Stereo/study-sites'\n",
    "site_names = ['MCS', 'JacksonPeak', 'Banner']\n",
    "\n",
    "for site_name in site_names:\n",
    "    print(f\"\\n{site_name}\")\n",
    "    if site_name=='JacksonPeak':\n",
    "        lidar_fn = os.path.join(data_dir, site_name, 'refdem', 'USGS_LPC_ID_FEMAHQ_2018_D18_merged_filtered.tif')\n",
    "    else:\n",
    "        lidar_fn = os.path.join(data_dir, site_name, 'refdem', f'{site_name}_REFDEM_WGS84.tif')\n",
    "    copdem_fn = glob.glob(os.path.join(data_dir, site_name, 'refdem', \n",
    "                                       f'{site_name}_COPDEM_clip_buffer*_WGS84_ellipsoid_UTM.tif'))[0]\n",
    "    \n",
    "    # Fill gaps in DEMs\n",
    "    def fill_dem_gaps(dem_fn):\n",
    "        out_fn = os.path.splitext(dem_fn)[0] + '_filled.tif'\n",
    "        if not os.path.exists(out_fn):\n",
    "            print('Filling gaps in DEMs')\n",
    "            # construct command\n",
    "            cmd = ['gdal_fillnodata.py', \n",
    "                   '-md', '10',\n",
    "                   '-of', 'GTiff',\n",
    "                   dem_fn, out_fn]\n",
    "            # run command\n",
    "            out = subprocess.run(cmd, shell=False, capture_output=True)\n",
    "            print(out)\n",
    "        else:\n",
    "            print('Filled DEM already exists, skipping.')\n",
    "        return out_fn\n",
    "    lidar_fill_fn = fill_dem_gaps(lidar_fn)\n",
    "    copdem_fill_fn = fill_dem_gaps(copdem_fn)\n",
    "    \n",
    "    # Coregister COPDEM to the lidar\n",
    "    copdem_fill_coreg_fn = os.path.splitext(copdem_fill_fn)[0] + '_coreg.tif'\n",
    "    if not os.path.exists(copdem_fill_coreg_fn):\n",
    "        print('Coregistering using the Nuth and Kaab approach')\n",
    "        lidar = xdem.DEM(lidar_fill_fn)\n",
    "        copdem = xdem.DEM(copdem_fill_fn).reproject(lidar)\n",
    "        nk = xdem.coreg.NuthKaab().fit(lidar, copdem)\n",
    "        print(nk.meta)\n",
    "        copdem_nk = nk.apply(copdem)\n",
    "        copdem_nk.save(copdem_fill_coreg_fn)\n",
    "        print('Coregistered COPDEM saved to file:', copdem_fill_coreg_fn)\n",
    "    else:\n",
    "        print('Coregistered COPDEM already exists, skipping.')\n",
    "        \n",
    "    # Merge DEMs: Overlay the COPDEM with the lidar DEM\n",
    "    merged_dem_fn = os.path.join(os.path.dirname(copdem_fn), f'{site_name}_refdem_lidar_COPDEM_merged.tif')\n",
    "    if not os.path.exists(merged_dem_fn):\n",
    "        # construct command \n",
    "        cmd = ['gdalwarp', copdem_fill_coreg_fn, lidar_fill_fn, merged_dem_fn]\n",
    "        out = subprocess.run(cmd, shell=False, capture_output=True)\n",
    "        print(out)\n",
    "        \n",
    "        # plot\n",
    "        merged_dem = xdem.DEM(merged_dem_fn)\n",
    "        merged_dem.plot(cmap='terrain')\n",
    "        plt.show()\n",
    "    else:\n",
    "        print('Merged DEM already exists, skipping.')\n",
    "    "
   ]
  },
  {
   "cell_type": "code",
   "execution_count": null,
   "metadata": {},
   "outputs": [],
   "source": [
    "# Clip MCS lidar to roads\n",
    "lidar_fn = os.path.join(data_dir, site_name, 'refdem', f'{site_name}_REFDEM_WGS84.tif')\n",
    "lidar_clip_fn = os.path.splitext(lidar_fn)[0] + '_ROADS-ONLY.tif'\n",
    "if not os.path.exists(lidar_clip_fn):\n",
    "\n",
    "    import geopandas as gpd\n",
    "    import rioxarray as rxr\n",
    "    import xarray as xr\n",
    "\n",
    "    site_name = 'MCS'\n",
    "    roads_fn = os.path.join(data_dir, '..', 'ITD_Functional_Class', 'ITD_HWY_21.shp')\n",
    "\n",
    "    lidar = rxr.open_rasterio(lidar_fn).squeeze()\n",
    "    crs = lidar.rio.crs\n",
    "\n",
    "    roads = gpd.read_file(roads_fn)\n",
    "    roads = roads.to_crs(crs)\n",
    "    roads_buffer = roads.geometry[0].buffer(5)\n",
    "\n",
    "    lidar_clip = lidar.rio.clip([roads_buffer])\n",
    "\n",
    "    lidar_clip = lidar_clip.rio.write_crs(crs)\n",
    "    \n",
    "    lidar_clip.rio.to_raster(lidar_clip_fn)\n",
    "    print('Lidar DEM clipped to roads and saved to file:', lidar_clip_fn)\n",
    "    \n",
    "    "
   ]
  },
  {
   "cell_type": "code",
   "execution_count": null,
   "metadata": {},
   "outputs": [],
   "source": []
  }
 ],
 "metadata": {
  "kernelspec": {
   "display_name": "skysat_stereo",
   "language": "python",
   "name": "python3"
  },
  "language_info": {
   "codemirror_mode": {
    "name": "ipython",
    "version": 3
   },
   "file_extension": ".py",
   "mimetype": "text/x-python",
   "name": "python",
   "nbconvert_exporter": "python",
   "pygments_lexer": "ipython3",
   "version": "3.11.6"
  }
 },
 "nbformat": 4,
 "nbformat_minor": 2
}
